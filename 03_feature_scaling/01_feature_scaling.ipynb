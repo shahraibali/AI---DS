{
 "cells": [
  {
   "cell_type": "code",
   "execution_count": 2,
   "metadata": {},
   "outputs": [],
   "source": [
    "#pip install scikit-learn"
   ]
  },
  {
   "cell_type": "markdown",
   "metadata": {},
   "source": [
    "# Feature Scaling"
   ]
  },
  {
   "cell_type": "markdown",
   "metadata": {},
   "source": [
    "## 1. Min Max scaling"
   ]
  },
  {
   "cell_type": "code",
   "execution_count": 3,
   "metadata": {},
   "outputs": [
    {
     "name": "stdout",
     "output_type": "stream",
     "text": [
      "   awen_numbers\n",
      "0            10\n",
      "1            20\n",
      "2            30\n",
      "3            40\n",
      "4            50\n"
     ]
    }
   ],
   "source": [
    "import pandas as pd\n",
    "from sklearn.preprocessing import MinMaxScaler\n",
    "# Sample data\n",
    "data = {'awen_numbers': [10, 20, 30, 40, 50]}\n",
    "df = pd.DataFrame(data)\n",
    "print(df.head())"
   ]
  },
  {
   "cell_type": "code",
   "execution_count": 4,
   "metadata": {},
   "outputs": [
    {
     "name": "stdout",
     "output_type": "stream",
     "text": [
      "   awen_numbers  awen_number_scaled\n",
      "0            10                0.00\n",
      "1            20                0.25\n",
      "2            30                0.50\n",
      "3            40                0.75\n",
      "4            50                1.00\n"
     ]
    }
   ],
   "source": [
    "# scale the data using min max scaler\n",
    "scaler = MinMaxScaler()\n",
    "df['awen_number_scaled'] = scaler.fit_transform(df[['awen_numbers']].values.reshape(-1,1))\n",
    "\n",
    "print(df.head())"
   ]
  },
  {
   "cell_type": "markdown",
   "metadata": {},
   "source": [
    "# 2. standard scaler Or z-score normalization"
   ]
  },
  {
   "cell_type": "code",
   "execution_count": 5,
   "metadata": {},
   "outputs": [
    {
     "name": "stdout",
     "output_type": "stream",
     "text": [
      "   awen_numbers\n",
      "0            10\n",
      "1            20\n",
      "2            30\n",
      "3            40\n",
      "4            50\n"
     ]
    }
   ],
   "source": [
    "\n",
    "import pandas as pd\n",
    "from sklearn.preprocessing import StandardScaler\n",
    "# Sample data\n",
    "data = {'awen_numbers': [10, 20, 30, 40, 50]}\n",
    "df = pd.DataFrame(data)\n",
    "print(df.head())"
   ]
  },
  {
   "cell_type": "code",
   "execution_count": 6,
   "metadata": {},
   "outputs": [
    {
     "name": "stdout",
     "output_type": "stream",
     "text": [
      "   awen_numbers  awen_number_scaled\n",
      "0            10           -1.414214\n",
      "1            20           -0.707107\n",
      "2            30            0.000000\n",
      "3            40            0.707107\n",
      "4            50            1.414214\n"
     ]
    }
   ],
   "source": [
    "# scale the data using standerd scaler\n",
    "scaler = StandardScaler()\n",
    "df['awen_number_scaled'] = scaler.fit_transform(df[['awen_numbers']].values.reshape(-1,1))\n",
    "\n",
    "print(df.head())"
   ]
  },
  {
   "cell_type": "markdown",
   "metadata": {},
   "source": [
    "# 3. Robust Scaler"
   ]
  },
  {
   "cell_type": "code",
   "execution_count": 9,
   "metadata": {},
   "outputs": [
    {
     "name": "stdout",
     "output_type": "stream",
     "text": [
      "   awen_numbers  awen_number_scaled\n",
      "0            10           -0.666667\n",
      "1            20           -0.333333\n",
      "2            30            0.000000\n",
      "3          1000           32.333333\n",
      "4            50            0.666667\n"
     ]
    }
   ],
   "source": [
    "\n",
    "import pandas as pd\n",
    "from sklearn.preprocessing import RobustScaler\n",
    "# Sample data\n",
    "data = {'awen_numbers': [10, 20, 30, 1000, 50]}\n",
    "df = pd.DataFrame(data)\n",
    "# robust scaler\n",
    "scaler = RobustScaler()\n",
    "df['awen_number_scaled'] = scaler.fit_transform(df[['awen_numbers']])\n",
    "print(df.head())"
   ]
  },
  {
   "cell_type": "markdown",
   "metadata": {},
   "source": [
    "# 4. Logrithemic scaling/ normalization"
   ]
  },
  {
   "cell_type": "code",
   "execution_count": 11,
   "metadata": {},
   "outputs": [
    {
     "name": "stdout",
     "output_type": "stream",
     "text": [
      "   awen_numbers  awen_number_log  awen_number_log2  awen_number_log10\n",
      "0            10         2.302585          3.321928           1.000000\n",
      "1            20         2.995732          4.321928           1.301030\n",
      "2            30         3.401197          4.906891           1.477121\n",
      "3            40         3.688879          5.321928           1.602060\n",
      "4            50         3.912023          5.643856           1.698970\n"
     ]
    }
   ],
   "source": [
    "import numpy as np\n",
    "import pandas as pd\n",
    "# random data with outlier\n",
    "data = {'awen_numbers': [10, 20, 30, 40, 50, 1000]}\n",
    "df = pd.DataFrame(data)\n",
    "#log transform\n",
    "df['awen_number_log'] = np.log(df['awen_numbers'])\n",
    "df['awen_number_log2'] = np.log2(df['awen_numbers'])\n",
    "df['awen_number_log10'] = np.log10(df['awen_numbers'])\n",
    "\n",
    "print(df.head())\n",
    "\n",
    "\n"
   ]
  },
  {
   "cell_type": "code",
   "execution_count": 12,
   "metadata": {},
   "outputs": [
    {
     "data": {
      "text/plain": [
       "<Axes: xlabel='awen_number_log2'>"
      ]
     },
     "execution_count": 12,
     "metadata": {},
     "output_type": "execute_result"
    },
    {
     "data": {
      "image/png": "[encoded data removed]",
      "text/plain": [
       "<Figure size 640x480 with 1 Axes>"
      ]
     },
     "metadata": {},
     "output_type": "display_data"
    }
   ],
   "source": [
    "import seaborn as sns\n",
    "sns.boxplot(df,x=\"awen_number_log2\")\n"
   ]
  }
 ],
 "metadata": {
  "kernelspec": {
   "display_name": "ydata_profiling",
   "language": "python",
   "name": "python3"
  },
  "language_info": {
   "codemirror_mode": {
    "name": "ipython",
    "version": 3
   },
   "file_extension": ".py",
   "mimetype": "text/x-python",
   "name": "python",
   "nbconvert_exporter": "python",
   "pygments_lexer": "ipython3",
   "version": "3.9.19"
  }
 },
 "nbformat": 4,
 "nbformat_minor": 2
}
